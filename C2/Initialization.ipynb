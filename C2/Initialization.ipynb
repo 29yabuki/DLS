{
 "cells": [
  {
   "cell_type": "markdown",
   "id": "1af29178-e42a-48f3-8f73-163c0c494c14",
   "metadata": {},
   "source": [
    "# Initialization"
   ]
  },
  {
   "cell_type": "markdown",
   "id": "3a7177a0-e80d-4053-8a2d-da6e78930536",
   "metadata": {},
   "source": [
    "## Zero initialization"
   ]
  },
  {
   "cell_type": "code",
   "execution_count": 3,
   "id": "75825102-b23e-44dd-9f9e-dd604a6d94ed",
   "metadata": {},
   "outputs": [],
   "source": [
    "def initialize_parameters_zeros(layers_dims):\n",
    "    \"\"\"\n",
    "    layer_dims:  list containing the size of each layer.\n",
    "    \n",
    "    Returns:\n",
    "    parameters: dict containing your parameters \"W1\", \"b1\", ..., \"WL\", \"bL\":\n",
    "                    W1: weight matrix of shape (layers_dims[1], layers_dims[0])\n",
    "                    b1: bias vector of shape (layers_dims[1], 1)\n",
    "                    ...\n",
    "                    WL: weight matrix of shape (layers_dims[L], layers_dims[L-1])\n",
    "                    bL: bias vector of shape (layers_dims[L], 1)\n",
    "    \"\"\"\n",
    "    \n",
    "    parameters = {}\n",
    "    L = len(layers_dims) # num of layers\n",
    "    \n",
    "    for l in range(1, L):\n",
    "        parameters['W' + str(l)] = np.zeros((layers_dims[l], layers_dims[l-1]))\n",
    "        parameters['b' + str(l)] = np.zeros((layers_dims[l], 1))\n",
    "    \n",
    "    return parameters"
   ]
  },
  {
   "cell_type": "markdown",
   "id": "aced12f3-f90b-4059-bb94-52438d4ac200",
   "metadata": {},
   "source": [
    "Initializing weights to zero ($W^{[l]} = 0$) causes:\n",
    "1. Hidden units receive the same input and compute the same output—creating symmetry.\n",
    "2. Symmetry makes gradients identical.\n",
    "3. Parameters gets updated to the same values.\n",
    "\n",
    "The predictions get stuck and the network won't learn. Therefore, weights $W^{[l]}$ should be initialized randomly to break symmetry. \n",
    "\n",
    "Initializing the biases $b^{[l]}$ to zeros is fine. Symmetry is still broken so long as $W^{[l]}$ is initialized randomly."
   ]
  },
  {
   "cell_type": "markdown",
   "id": "0119daf5-87ef-47c4-9cbe-36f4e2141762",
   "metadata": {},
   "source": [
    "## Random initialization"
   ]
  },
  {
   "cell_type": "code",
   "execution_count": 5,
   "id": "14c17987-95be-4bd8-a541-4a1e7a6bda98",
   "metadata": {},
   "outputs": [],
   "source": [
    "def initialize_parameters_random(layers_dims):\n",
    "    \"\"\"\n",
    "    Arguments:\n",
    "    layer_dims: list containing the size of each layer.\n",
    "    \n",
    "    Returns:\n",
    "    parameters: dict containing your parameters \"W1\", \"b1\", ..., \"WL\", \"bL\":\n",
    "                    W1: weight matrix of shape (layers_dims[1], layers_dims[0])\n",
    "                    b1: bias vector of shape (layers_dims[1], 1)\n",
    "                    ...\n",
    "                    WL: weight matrix of shape (layers_dims[L], layers_dims[L-1])\n",
    "                    bL: bias vector of shape (layers_dims[L], 1)\n",
    "    \"\"\"\n",
    "\n",
    "    parameters = {}\n",
    "    L = len(layers_dims) # num of layers\n",
    "    \n",
    "    for l in range(1, L):\n",
    "        parameters['W' + str(l)] = np.random.randn(layers_dims[l], layers_dims[l-1]) * 0.01\n",
    "        parameters['b' + str(l)] = np.zeros((layers_dims[l], 1))\n",
    "\n",
    "    return parameters"
   ]
  },
  {
   "cell_type": "markdown",
   "id": "f30e7701-fe15-4d33-b42c-fdbb11f83911",
   "metadata": {},
   "source": [
    "Initialize randomly with small random values. Large values slows down optimization.\n",
    "\n",
    "`rand()` vs `randn()`:\n",
    "- `np.random.rand()` produces a uniform distribution.\n",
    "- `np.random.randn()` produces a normal distribution.\n",
    "\n",
    "`np.random.randn()` is ideal as it clusters values around 0 preventing extreme values."
   ]
  },
  {
   "cell_type": "markdown",
   "id": "61f3fff6-1ae8-47ea-b745-8ba9467b2cc0",
   "metadata": {},
   "source": [
    "## He initialization"
   ]
  },
  {
   "cell_type": "markdown",
   "id": "06c6988b-f9ea-4104-8e3c-036980fb4660",
   "metadata": {},
   "source": [
    "Also known as: Kaiming initialization \\\n",
    "Use cases: ReLU and its variants\n",
    "\n",
    "$$\n",
    "\\sigma^2 = \\frac{2}{n^{[l-1]}}\n",
    "$$\n",
    "\n",
    "Rationale: ReLU zeroes out about half of its inputs. Double the variance relative to $n^{[l-1]}$ to preserve the variance to mitigate vanishing gradients."
   ]
  },
  {
   "cell_type": "code",
   "execution_count": 7,
   "id": "6b8efbe5-5070-496b-8afc-dc5ea7d6de87",
   "metadata": {},
   "outputs": [],
   "source": [
    "# GRADED FUNCTION: initialize_parameters_he\n",
    "\n",
    "def initialize_parameters_he(layers_dims):\n",
    "    \"\"\"\n",
    "    Arguments:\n",
    "    layer_dims: list containing the size of each layer.\n",
    "    \n",
    "    Returns:\n",
    "    parameters: dict containing your parameters \"W1\", \"b1\", ..., \"WL\", \"bL\":\n",
    "                    W1: weight matrix of shape (layers_dims[1], layers_dims[0])\n",
    "                    b1: bias vector of shape (layers_dims[1], 1)\n",
    "                    ...\n",
    "                    WL: weight matrix of shape (layers_dims[L], layers_dims[L-1])\n",
    "                    bL: bias vector of shape (layers_dims[L], 1)\n",
    "    \"\"\"\n",
    "    \n",
    "    parameters = {}\n",
    "    L = len(layers_dims) - 1 # int representing the num of layers\n",
    "     \n",
    "    for l in range(1, L + 1):\n",
    "        parameters['W' + str(l)] = np.random.randn(layers_dims[l], layers_dims[l-1]) * np.sqrt(2/layers_dims[l-1])\n",
    "        parameters['b' + str(l)] = np.zeros((layers_dims[l], 1))       \n",
    "        \n",
    "    return parameters"
   ]
  },
  {
   "cell_type": "code",
   "execution_count": null,
   "id": "62f7ca0c-ef93-494b-a55b-eecaa19697c0",
   "metadata": {},
   "outputs": [],
   "source": []
  }
 ],
 "metadata": {
  "kernelspec": {
   "display_name": "DLS",
   "language": "python",
   "name": "dls"
  },
  "language_info": {
   "codemirror_mode": {
    "name": "ipython",
    "version": 3
   },
   "file_extension": ".py",
   "mimetype": "text/x-python",
   "name": "python",
   "nbconvert_exporter": "python",
   "pygments_lexer": "ipython3",
   "version": "3.11.2"
  }
 },
 "nbformat": 4,
 "nbformat_minor": 5
}
