{
 "cells": [
  {
   "cell_type": "markdown",
   "id": "ec097154-ab68-45c4-8efa-a9a1f9705795",
   "metadata": {},
   "source": [
    "# Loss functions"
   ]
  },
  {
   "cell_type": "code",
   "execution_count": 1,
   "id": "122dfa40-d42c-4875-9cc8-eeb3a044398f",
   "metadata": {},
   "outputs": [],
   "source": [
    "import numpy as np"
   ]
  },
  {
   "cell_type": "markdown",
   "id": "11553750-0831-43d4-bf3a-46f17353662e",
   "metadata": {},
   "source": [
    "The loss measures how well your model's predictions ($\\hat{y}$) match the true values ($y$).\n",
    "\n",
    "A higher loss means worse performance. \n",
    "\n",
    "In deep learning, optimization algorithms like Gradient Descent are used to minimize this loss and improve the model.\n",
    "\n",
    "Loss function:\n",
    "- Error for a _single_ example.\n",
    "- How far $\\hat y$ is from $y$.\n",
    "\n",
    "Cost function:\n",
    "- Average loss over all $m$ training examples.\n",
    "- Dependent on $w$ and $b$.\n",
    "- Minimized during training."
   ]
  },
  {
   "cell_type": "markdown",
   "id": "e96effc0-6ff8-4515-8468-68f190c84508",
   "metadata": {},
   "source": [
    "## L1 loss"
   ]
  },
  {
   "cell_type": "markdown",
   "id": "1254e99a-3121-4da2-af40-ae80209b0a34",
   "metadata": {},
   "source": [
    "L1 loss is defined as:\n",
    "$$\\begin{align*} & L_1(\\hat{y}, y) = \\sum_{i=0}^{m-1}|y^{(i)} - \\hat{y}^{(i)}| \\end{align*}$$"
   ]
  },
  {
   "cell_type": "code",
   "execution_count": 2,
   "id": "04073cd2-6ff8-491f-8be3-5f794f6fdd7c",
   "metadata": {},
   "outputs": [],
   "source": [
    "def L1(yhat, y):\n",
    "    loss = np.sum(np.abs(y-yhat))\n",
    "    \n",
    "    return loss"
   ]
  },
  {
   "cell_type": "code",
   "execution_count": 3,
   "id": "da9398a4-0522-43ac-b9fe-ae26e623db9a",
   "metadata": {},
   "outputs": [
    {
     "name": "stdout",
     "output_type": "stream",
     "text": [
      "L1 = 1.1\n"
     ]
    }
   ],
   "source": [
    "yhat = np.array([.9, 0.2, 0.1, .4, .9])\n",
    "y = np.array([1, 0, 0, 1, 1])\n",
    "print(f'L1 = {L1(yhat, y)}')"
   ]
  },
  {
   "cell_type": "markdown",
   "id": "dfeb6a19-c5af-4f38-8c8b-b7854de6a755",
   "metadata": {},
   "source": [
    "## L2 loss"
   ]
  },
  {
   "cell_type": "markdown",
   "id": "36f64c85-5e61-42a8-bf2e-c0ba84463123",
   "metadata": {},
   "source": [
    "L2 loss is defined as:\n",
    "$$\\begin{align*} & L_2(\\hat{y},y) = \\sum_{i=0}^{m-1}(y^{(i)} - \\hat{y}^{(i)})^2 \\end{align*}$$"
   ]
  },
  {
   "cell_type": "code",
   "execution_count": 4,
   "id": "791af52d-c107-461f-8917-a1ad4d6a192e",
   "metadata": {},
   "outputs": [],
   "source": [
    "def L2(yhat, y):\n",
    "    loss = np.sum(np.square(y-yhat))\n",
    "    \n",
    "    return loss"
   ]
  },
  {
   "cell_type": "code",
   "execution_count": 5,
   "id": "4a9cb654-1b99-43c5-89c3-82fc83c64d44",
   "metadata": {},
   "outputs": [
    {
     "name": "stdout",
     "output_type": "stream",
     "text": [
      "L2 = 0.43\n"
     ]
    }
   ],
   "source": [
    "yhat = np.array([.9, 0.2, 0.1, .4, .9])\n",
    "y = np.array([1, 0, 0, 1, 1])\n",
    "\n",
    "print(f'L2 = {L2(yhat, y)}')"
   ]
  },
  {
   "cell_type": "code",
   "execution_count": null,
   "id": "be31bdbc-92a4-4665-aaea-b57be8d87b3c",
   "metadata": {},
   "outputs": [],
   "source": []
  }
 ],
 "metadata": {
  "kernelspec": {
   "display_name": "DLS",
   "language": "python",
   "name": "dls"
  },
  "language_info": {
   "codemirror_mode": {
    "name": "ipython",
    "version": 3
   },
   "file_extension": ".py",
   "mimetype": "text/x-python",
   "name": "python",
   "nbconvert_exporter": "python",
   "pygments_lexer": "ipython3",
   "version": "3.11.2"
  }
 },
 "nbformat": 4,
 "nbformat_minor": 5
}
