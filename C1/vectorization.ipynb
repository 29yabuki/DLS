{
 "cells": [
  {
   "cell_type": "markdown",
   "id": "bcfe5d06-f454-4cbc-bf9f-3b6ef5474d95",
   "metadata": {},
   "source": [
    "# DLS C1W2"
   ]
  },
  {
   "cell_type": "code",
   "execution_count": 1,
   "id": "5d9b858f-ee2e-4efb-aa66-ce6130814996",
   "metadata": {},
   "outputs": [],
   "source": [
    "import numpy as np\n",
    "import time"
   ]
  },
  {
   "cell_type": "markdown",
   "id": "ce17b2a2-8c60-4713-8249-92fe218bad15",
   "metadata": {},
   "source": [
    "## Vectorization"
   ]
  },
  {
   "cell_type": "markdown",
   "id": "a25e8ac1-ea09-429a-9945-8d47415676b6",
   "metadata": {},
   "source": [
    "### for-loop implementation"
   ]
  },
  {
   "cell_type": "code",
   "execution_count": 2,
   "id": "a0a76cf0-6254-4605-b3de-bddce2e4cbd6",
   "metadata": {},
   "outputs": [],
   "source": [
    "x1 = [9, 2, 5, 0, 0, 7, 5, 0, 0, 0, 9, 2, 5, 0, 0]\n",
    "x2 = [9, 2, 2, 9, 0, 9, 2, 5, 0, 0, 9, 2, 5, 0, 0]"
   ]
  },
  {
   "cell_type": "code",
   "execution_count": 31,
   "id": "2c45dd46-7575-4128-b9ef-5bfdcc71b97b",
   "metadata": {},
   "outputs": [
    {
     "name": "stdout",
     "output_type": "stream",
     "text": [
      "Dot product time: 0.097 ms\n",
      "Outer product time: 0.204 ms\n",
      "Elementwise multiplication time: 0.073 ms\n",
      "General dot product time: 0.113 ms\n"
     ]
    }
   ],
   "source": [
    "# Classic Dot Product\n",
    "tic = time.process_time()\n",
    "dot = 0\n",
    "for i in range(len(x1)):\n",
    "    dot += x1[i] * x2[i]\n",
    "toc = time.process_time()\n",
    "print(f\"Dot product time: {1000 * (toc - tic):.3f} ms\")\n",
    "\n",
    "# Classic Outer Product\n",
    "tic = time.process_time()\n",
    "outer = np.zeros((len(x1), len(x2)))\n",
    "for i in range(len(x1)):\n",
    "    for j in range(len(x2)):\n",
    "        outer[i, j] = x1[i] * x2[j]\n",
    "toc = time.process_time()\n",
    "print(f\"Outer product time: {1000 * (toc - tic):.3f} ms\")\n",
    "\n",
    "# Classic Elementwise Multiplication\n",
    "tic = time.process_time()\n",
    "mul = np.zeros(len(x1))\n",
    "for i in range(len(x1)):\n",
    "    mul[i] = x1[i] * x2[i]\n",
    "toc = time.process_time()\n",
    "print(f\"Elementwise multiplication time: {1000 * (toc - tic):.3f} ms\")\n",
    "\n",
    "# Classic General Dot Product\n",
    "W = np.random.rand(3, len(x1))\n",
    "tic = time.process_time()\n",
    "gdot = np.zeros(W.shape[0])\n",
    "for i in range(W.shape[0]):\n",
    "    for j in range(len(x1)):\n",
    "        gdot[i] += W[i, j] * x1[j]\n",
    "toc = time.process_time()\n",
    "print(f\"General dot product time: {1000 * (toc - tic):.3f} ms\")"
   ]
  },
  {
   "cell_type": "markdown",
   "id": "25804946-083e-42a3-9053-a38c3f596944",
   "metadata": {},
   "source": [
    "### vectorized"
   ]
  },
  {
   "cell_type": "code",
   "execution_count": 32,
   "id": "f5519701-d40e-47ac-b375-0ca373883cf9",
   "metadata": {
    "scrolled": true
   },
   "outputs": [
    {
     "name": "stdout",
     "output_type": "stream",
     "text": [
      "Dot product time: 0.111 ms\n",
      "Outer product time: 0.093 ms\n",
      "Elementwise multiplication time: 0.043 ms\n",
      "General dot product time: 0.061 ms\n"
     ]
    }
   ],
   "source": [
    "# Dot Product\n",
    "tic = time.process_time()\n",
    "dot = np.dot(x1, x2)\n",
    "toc = time.process_time()\n",
    "print(f\"Dot product time: {1000 * (toc - tic):.3f} ms\")\n",
    "\n",
    "# Outer Product\n",
    "tic = time.process_time()\n",
    "outer = np.outer(x1, x2)\n",
    "toc = time.process_time()\n",
    "print(f\"Outer product time: {1000 * (toc - tic):.3f} ms\")\n",
    "\n",
    "# Element-wise Multiplication\n",
    "tic = time.process_time()\n",
    "mul = np.multiply(x1, x2)\n",
    "toc = time.process_time()\n",
    "print(f\"Elementwise multiplication time: {1000 * (toc - tic):.3f} ms\")\n",
    "\n",
    "# General Dot Product\n",
    "tic = time.process_time()\n",
    "dot = np.dot(W, x1)\n",
    "toc = time.process_time()\n",
    "print(f\"General dot product time: {1000 * (toc - tic):.3f} ms\")"
   ]
  },
  {
   "cell_type": "markdown",
   "id": "5ad578f9-4ada-4a1e-9fba-d4d511afcd95",
   "metadata": {},
   "source": [
    "## Loss functions"
   ]
  },
  {
   "cell_type": "markdown",
   "id": "8a152425-4667-41ae-936f-7554c22076c0",
   "metadata": {},
   "source": [
    "The loss measures how well your model's predictions ($\\hat{y}$) match the true values ($y$).\n",
    "\n",
    "A **higher loss** means **worse performance**. \n",
    "\n",
    "In deep learning, optimization algorithms like Gradient Descent are used to minimize this loss and improve the model."
   ]
  },
  {
   "cell_type": "markdown",
   "id": "a7469dbb-68ad-4ded-b221-fbf8e00eb505",
   "metadata": {},
   "source": [
    "### L1 loss"
   ]
  },
  {
   "cell_type": "markdown",
   "id": "f30d62ec-d187-4b07-8b2c-fb22960e6b89",
   "metadata": {},
   "source": [
    "L1 loss is defined as:\n",
    "$$\\begin{align*} & L_1(\\hat{y}, y) = \\sum_{i=0}^{m-1}|y^{(i)} - \\hat{y}^{(i)}| \\end{align*}\\tag{6}$$"
   ]
  },
  {
   "cell_type": "code",
   "execution_count": 48,
   "id": "ada31282-10ca-42b9-a89c-9bb8cc8f45af",
   "metadata": {},
   "outputs": [],
   "source": [
    "def L1(yhat, y):\n",
    "    loss = np.sum(np.abs(y-yhat))\n",
    "    \n",
    "    return loss"
   ]
  },
  {
   "cell_type": "code",
   "execution_count": 49,
   "id": "114566e7-f8fa-492c-9ed9-072b6b582637",
   "metadata": {},
   "outputs": [
    {
     "name": "stdout",
     "output_type": "stream",
     "text": [
      "L1 = 1.1\n"
     ]
    }
   ],
   "source": [
    "yhat = np.array([.9, 0.2, 0.1, .4, .9])\n",
    "y = np.array([1, 0, 0, 1, 1])\n",
    "print(f'L1 = {L1(yhat, y)}')"
   ]
  },
  {
   "cell_type": "markdown",
   "id": "bf04cea0-d57a-4415-98ac-5f6b647770c9",
   "metadata": {},
   "source": [
    "### L2 loss"
   ]
  },
  {
   "cell_type": "markdown",
   "id": "7dd3e780-4d9f-4464-a104-56954ddbfae6",
   "metadata": {},
   "source": [
    "L2 loss is defined as:\n",
    "$$\\begin{align*} & L_2(\\hat{y},y) = \\sum_{i=0}^{m-1}(y^{(i)} - \\hat{y}^{(i)})^2 \\end{align*}\\tag{7}$$"
   ]
  },
  {
   "cell_type": "code",
   "execution_count": 46,
   "id": "b24d4c91-cab7-47b6-909f-d1cc9ec2d33e",
   "metadata": {},
   "outputs": [],
   "source": [
    "def L2(yhat, y):\n",
    "    loss = np.sum(np.square(y-yhat))\n",
    "    \n",
    "    return loss"
   ]
  },
  {
   "cell_type": "code",
   "execution_count": 47,
   "id": "8b8c8f15-89dd-4c13-a510-2d84cd080ae6",
   "metadata": {},
   "outputs": [
    {
     "name": "stdout",
     "output_type": "stream",
     "text": [
      "L2 = 0.43\n"
     ]
    }
   ],
   "source": [
    "yhat = np.array([.9, 0.2, 0.1, .4, .9])\n",
    "y = np.array([1, 0, 0, 1, 1])\n",
    "\n",
    "print(f'L2 = {L2(yhat, y)}')"
   ]
  }
 ],
 "metadata": {
  "kernelspec": {
   "display_name": "DLS",
   "language": "python",
   "name": "dls"
  },
  "language_info": {
   "codemirror_mode": {
    "name": "ipython",
    "version": 3
   },
   "file_extension": ".py",
   "mimetype": "text/x-python",
   "name": "python",
   "nbconvert_exporter": "python",
   "pygments_lexer": "ipython3",
   "version": "3.11.2"
  }
 },
 "nbformat": 4,
 "nbformat_minor": 5
}
