{
 "cells": [
  {
   "cell_type": "markdown",
   "id": "bcfe5d06-f454-4cbc-bf9f-3b6ef5474d95",
   "metadata": {},
   "source": [
    "# Vectorization"
   ]
  },
  {
   "cell_type": "code",
   "execution_count": 1,
   "id": "5d9b858f-ee2e-4efb-aa66-ce6130814996",
   "metadata": {},
   "outputs": [],
   "source": [
    "import numpy as np\n",
    "import time"
   ]
  },
  {
   "cell_type": "markdown",
   "id": "a25e8ac1-ea09-429a-9945-8d47415676b6",
   "metadata": {},
   "source": [
    "## using for-loop"
   ]
  },
  {
   "cell_type": "code",
   "execution_count": 2,
   "id": "a0a76cf0-6254-4605-b3de-bddce2e4cbd6",
   "metadata": {},
   "outputs": [],
   "source": [
    "x1 = [9, 2, 5, 0, 0, 7, 5, 0, 0, 0, 9, 2, 5, 0, 0]\n",
    "x2 = [9, 2, 2, 9, 0, 9, 2, 5, 0, 0, 9, 2, 5, 0, 0]"
   ]
  },
  {
   "cell_type": "code",
   "execution_count": 31,
   "id": "2c45dd46-7575-4128-b9ef-5bfdcc71b97b",
   "metadata": {},
   "outputs": [
    {
     "name": "stdout",
     "output_type": "stream",
     "text": [
      "Dot product time: 0.097 ms\n",
      "Outer product time: 0.204 ms\n",
      "Elementwise multiplication time: 0.073 ms\n",
      "General dot product time: 0.113 ms\n"
     ]
    }
   ],
   "source": [
    "# Classic Dot Product\n",
    "tic = time.process_time()\n",
    "dot = 0\n",
    "for i in range(len(x1)):\n",
    "    dot += x1[i] * x2[i]\n",
    "toc = time.process_time()\n",
    "print(f\"Dot product time: {1000 * (toc - tic):.3f} ms\")\n",
    "\n",
    "# Classic Outer Product\n",
    "tic = time.process_time()\n",
    "outer = np.zeros((len(x1), len(x2)))\n",
    "for i in range(len(x1)):\n",
    "    for j in range(len(x2)):\n",
    "        outer[i, j] = x1[i] * x2[j]\n",
    "toc = time.process_time()\n",
    "print(f\"Outer product time: {1000 * (toc - tic):.3f} ms\")\n",
    "\n",
    "# Classic Elementwise Multiplication\n",
    "tic = time.process_time()\n",
    "mul = np.zeros(len(x1))\n",
    "for i in range(len(x1)):\n",
    "    mul[i] = x1[i] * x2[i]\n",
    "toc = time.process_time()\n",
    "print(f\"Elementwise multiplication time: {1000 * (toc - tic):.3f} ms\")\n",
    "\n",
    "# Classic General Dot Product\n",
    "W = np.random.rand(3, len(x1))\n",
    "tic = time.process_time()\n",
    "gdot = np.zeros(W.shape[0])\n",
    "for i in range(W.shape[0]):\n",
    "    for j in range(len(x1)):\n",
    "        gdot[i] += W[i, j] * x1[j]\n",
    "toc = time.process_time()\n",
    "print(f\"General dot product time: {1000 * (toc - tic):.3f} ms\")"
   ]
  },
  {
   "cell_type": "markdown",
   "id": "25804946-083e-42a3-9053-a38c3f596944",
   "metadata": {},
   "source": [
    "## using vectorization"
   ]
  },
  {
   "cell_type": "code",
   "execution_count": 32,
   "id": "f5519701-d40e-47ac-b375-0ca373883cf9",
   "metadata": {
    "scrolled": true
   },
   "outputs": [
    {
     "name": "stdout",
     "output_type": "stream",
     "text": [
      "Dot product time: 0.111 ms\n",
      "Outer product time: 0.093 ms\n",
      "Elementwise multiplication time: 0.043 ms\n",
      "General dot product time: 0.061 ms\n"
     ]
    }
   ],
   "source": [
    "# Dot Product\n",
    "tic = time.process_time()\n",
    "dot = np.dot(x1, x2)\n",
    "toc = time.process_time()\n",
    "print(f\"Dot product time: {1000 * (toc - tic):.3f} ms\")\n",
    "\n",
    "# Outer Product\n",
    "tic = time.process_time()\n",
    "outer = np.outer(x1, x2)\n",
    "toc = time.process_time()\n",
    "print(f\"Outer product time: {1000 * (toc - tic):.3f} ms\")\n",
    "\n",
    "# Element-wise Multiplication\n",
    "tic = time.process_time()\n",
    "mul = np.multiply(x1, x2)\n",
    "toc = time.process_time()\n",
    "print(f\"Elementwise multiplication time: {1000 * (toc - tic):.3f} ms\")\n",
    "\n",
    "# General Dot Product\n",
    "tic = time.process_time()\n",
    "dot = np.dot(W, x1)\n",
    "toc = time.process_time()\n",
    "print(f\"General dot product time: {1000 * (toc - tic):.3f} ms\")"
   ]
  }
 ],
 "metadata": {
  "kernelspec": {
   "display_name": "DLS",
   "language": "python",
   "name": "dls"
  },
  "language_info": {
   "codemirror_mode": {
    "name": "ipython",
    "version": 3
   },
   "file_extension": ".py",
   "mimetype": "text/x-python",
   "name": "python",
   "nbconvert_exporter": "python",
   "pygments_lexer": "ipython3",
   "version": "3.11.2"
  }
 },
 "nbformat": 4,
 "nbformat_minor": 5
}
