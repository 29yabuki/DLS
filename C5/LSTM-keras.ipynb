{
 "cells": [
  {
   "cell_type": "code",
   "execution_count": null,
   "id": "dcb78eeb-fedb-48c8-8b5b-8060cdbe6709",
   "metadata": {},
   "outputs": [],
   "source": []
  }
 ],
 "metadata": {
  "kernelspec": {
   "display_name": "",
   "name": ""
  },
  "language_info": {
   "name": ""
  }
 },
 "nbformat": 4,
 "nbformat_minor": 5
}
