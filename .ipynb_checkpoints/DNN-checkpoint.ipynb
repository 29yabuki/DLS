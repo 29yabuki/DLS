{
 "cells": [
  {
   "cell_type": "code",
   "execution_count": 2,
   "id": "aee281b5-b983-421f-97ed-27fd477498e2",
   "metadata": {},
   "outputs": [],
   "source": [
    "import numpy as np"
   ]
  },
  {
   "cell_type": "markdown",
   "id": "679df689-3f9c-441e-b2ec-75bea101d747",
   "metadata": {},
   "source": [
    "## 01 Initialization"
   ]
  },
  {
   "cell_type": "markdown",
   "id": "3645c4d0-e5ae-4068-8620-ba55a446c9cb",
   "metadata": {},
   "source": [
    "### 01.01 2-layer NN\n",
    "Initializing the parameters of the 2-layer neural network."
   ]
  },
  {
   "cell_type": "code",
   "execution_count": 3,
   "id": "988335c5-0205-4796-8e1a-37adb703f6d1",
   "metadata": {},
   "outputs": [],
   "source": [
    "def initialize_parameters(n_x, n_h, n_y):\n",
    "    \"\"\"\n",
    "    Argument:\n",
    "    n_x: size of the input layer\n",
    "    n_h: size of the hidden layer\n",
    "    n_y: size of the output layer\n",
    "    \n",
    "    Returns:\n",
    "    parameters: dict containing your parameters:\n",
    "                    W1: weight matrix of shape (n_h, n_x)\n",
    "                    b1: bias vector of shape (n_h, 1)\n",
    "                    W2: weight matrix of shape (n_y, n_h)\n",
    "                    b2: bias vector of shape (n_y, 1)\n",
    "    \"\"\"\n",
    "    # np.random.seed(1)\n",
    "    W1 = np.random.randn(n_h, n_x) * 0.01\n",
    "    b1 = np.zeros((n_h, 1))\n",
    "    W2 = np.random.randn(n_y, n_h) * 0.01\n",
    "    b2 = np.zeros((n_y, 1))\n",
    "    \n",
    "    parameters = {\"W1\": W1,\n",
    "                  \"b1\": b1,\n",
    "                  \"W2\": W2,\n",
    "                  \"b2\": b2}\n",
    "    \n",
    "    return parameters    "
   ]
  },
  {
   "cell_type": "markdown",
   "id": "a3390407-e2e5-4199-aee2-2107d4be70cc",
   "metadata": {},
   "source": [
    "### 01.02 L-layer NN\n",
    "Generalization of the initialization process to $L$ layers."
   ]
  },
  {
   "cell_type": "code",
   "execution_count": 5,
   "id": "30a7544b-4711-4e6b-b786-7ede7ec091b6",
   "metadata": {},
   "outputs": [],
   "source": [
    "def initialize_parameters_deep(layer_dims):\n",
    "    \"\"\"\n",
    "    Arguments:\n",
    "    layer_dims: list containing the dimensions of each layer in our network\n",
    "    \n",
    "    Returns:\n",
    "    parameters: dict containing your parameters \"W1\", \"b1\", ..., \"WL\", \"bL\":\n",
    "                    Wl: weight matrix of shape (layer_dims[l], layer_dims[l-1])\n",
    "                    bl: bias vector of shape (layer_dims[l], 1)\n",
    "    \"\"\"\n",
    "    # np.random.seed(3)\n",
    "    parameters = {}\n",
    "    L = len(layer_dims)\n",
    "    \n",
    "    for l in range(1, L):\n",
    "        parameters['W' + str(l)] = np.random.randn(layer_dims[l], layer_dims[l-1]) * 0.01\n",
    "        parameters['b' + str(l)] = np.zeros((layer_dims[l], 1))\n",
    "                \n",
    "        assert(parameters['W' + str(l)].shape == (layer_dims[l], layer_dims[l - 1]))\n",
    "        assert(parameters['b' + str(l)].shape == (layer_dims[l], 1))\n",
    "\n",
    "        \n",
    "    return parameters"
   ]
  },
  {
   "cell_type": "markdown",
   "id": "0b890db2-11a0-4dc5-b8eb-d84d90860051",
   "metadata": {},
   "source": [
    "## 02 Forward propagation"
   ]
  },
  {
   "cell_type": "markdown",
   "id": "cfacea16-d4eb-4e4b-9ad5-f77047280be8",
   "metadata": {},
   "source": [
    "Build the forward propagation in 3 steps.\n",
    "1. LINEAR\n",
    "2. LINEAR -> ACTIVATION where ACTIVATION will be either ReLU or Sigmoid. \n",
    "3. [LINEAR -> RELU] $\\times$ (L-1) -> LINEAR -> SIGMOID (whole model)"
   ]
  },
  {
   "cell_type": "markdown",
   "id": "42c406cf-7d53-4eb0-bb5d-b5a7655188cd",
   "metadata": {},
   "source": [
    "### 02.01 Linear forward\n",
    "Implementation of the linear part of a layer's forward propagation.\n",
    "\n",
    "The linear forward module (vectorized over all the examples) computes the following equations:\n",
    "\n",
    "$$Z^{[l]} = W^{[l]}A^{[l-1]} +b^{[l]}, \\quad \\text{where } A^{[0]} = X$$"
   ]
  },
  {
   "cell_type": "code",
   "execution_count": 7,
   "id": "ce4f46c4-a4f9-41ff-823b-1f47f70e7e67",
   "metadata": {},
   "outputs": [],
   "source": [
    "def linear_forward(A, W, b):\n",
    "    \"\"\"\n",
    "    Arguments:\n",
    "    A: activations from previous layer (or input data): (size of previous layer, num of examples)\n",
    "    W: weights matrix: numpy array of shape (size of current layer, size of previous layer)\n",
    "    b: bias vector, numpy array of shape (size of the current layer, 1)\n",
    "\n",
    "    Returns:\n",
    "    Z: the input of the activation function, also called pre-activation parameter \n",
    "    cache: a python tuple containing \"A\", \"W\" and \"b\" ; stored for computing the backward pass efficiently\n",
    "    \"\"\"\n",
    "    Z = np.dot(W, A) + b\n",
    "    cache = (A, W, b)\n",
    "    \n",
    "    return Z, cache"
   ]
  },
  {
   "cell_type": "markdown",
   "id": "6c91c4f7-8800-48d1-af3d-9fff17b3ca09",
   "metadata": {},
   "source": [
    "### 02.02 Linear-activation forward\n",
    "Implementation of the forward propagation for the LINEAR->ACTIVATION layer."
   ]
  },
  {
   "cell_type": "code",
   "execution_count": 8,
   "id": "741bf2b4-9425-412e-bbaf-6362160c5e0b",
   "metadata": {},
   "outputs": [],
   "source": [
    "def linear_activation_forward(A_prev, W, b, activation):\n",
    "    \"\"\"\n",
    "    Arguments:\n",
    "    A_prev: activations from previous layer (or input data): (size of previous layer, number of examples)\n",
    "    W: weights matrix, numpy array of shape (size of current layer, size of previous layer)\n",
    "    b: bias vector, numpy array of shape (size of the current layer, 1)\n",
    "    activation: the activation to be used in this layer, stored as a text string: \"sigmoid\" or \"relu\"\n",
    "\n",
    "    Returns:\n",
    "    A: the output of the activation function, also called the post-activation value \n",
    "    cache: tuple containing \"linear_cache\" and \"activation_cache\"; stored for computing the backward pass efficiently\n",
    "    \"\"\"\n",
    "    \n",
    "    if activation == \"sigmoid\":\n",
    "        Z, linear_cache = linear_forward(A_prev, W, b)\n",
    "        A, activation_cache = sigmoid(Z)\n",
    "    elif activation == \"relu\":\n",
    "        Z, linear_cache = linear_forward(A_prev, W, b)\n",
    "        A, activation_cache = relu(Z)\n",
    "    \n",
    "    cache = (linear_cache, activation_cache)\n",
    "\n",
    "    return A, cache"
   ]
  },
  {
   "cell_type": "markdown",
   "id": "d974f6f3-4ba4-4c85-bd88-2a5359967a37",
   "metadata": {},
   "source": [
    "### 02.03 L-layer model forward\n",
    "Implementation forward propagation for the [LINEAR->RELU]*(L-1)->LINEAR->SIGMOID computation\n"
   ]
  },
  {
   "cell_type": "code",
   "execution_count": 10,
   "id": "7ec42b71-b3c6-4c3e-b333-1c091173489a",
   "metadata": {},
   "outputs": [],
   "source": [
    "def L_model_forward(X, parameters):\n",
    "    \"\"\"\n",
    "    Implement forward propagation for the [LINEAR->RELU]*(L-1)->LINEAR->SIGMOID computation\n",
    "    \n",
    "    Arguments:\n",
    "    X: input data, numpy array of shape (input size, number of examples)\n",
    "    parameters: output of initialize_parameters_deep()\n",
    "    \n",
    "    Returns:\n",
    "    AL: activation value from the output layer\n",
    "    caches: list of caches containing:\n",
    "                - every cache of linear_activation_forward() \n",
    "                - there are L of them, indexed from 0 to L-1\n",
    "    \"\"\"\n",
    "    caches = []\n",
    "    A = X\n",
    "    L = len(parameters) // 2 # number of layers in the neural network\n",
    "    \n",
    "    # [LINEAR -> RELU]*(L-1)\n",
    "    for l in range(1, L):\n",
    "        A_prev = A\n",
    "        A, cache = linear_activation_forward(A_prev,\n",
    "                                             parameters['W' + str(l)],\n",
    "                                             parameters['b' + str(l)], \n",
    "                                             'relu')\n",
    "        caches.append(cache)\n",
    "        \n",
    "    \n",
    "    # LINEAR -> SIGMOID\n",
    "    W = parameters['W' + str(L)]\n",
    "    b = parameters['b' + str(L)]\n",
    "    AL, cache = linear_activation_forward(A,\n",
    "                                          parameters['W' + str(L)],\n",
    "                                          parameters['b' + str(L)], \n",
    "                                          'sigmoid')\n",
    "    caches.append(cache)\n",
    "    \n",
    "    return AL, caches"
   ]
  },
  {
   "cell_type": "markdown",
   "id": "d902327b-363e-4318-a14f-787379c57913",
   "metadata": {},
   "source": [
    "## 03 Cost function"
   ]
  },
  {
   "cell_type": "markdown",
   "id": "78ed3500-51c3-4913-9d7c-2b1603c02cfd",
   "metadata": {},
   "source": [
    "Compute the cross-entropy cost $J$: \n",
    "$$-\\frac{1}{m} \\sum\\limits_{i = 1}^{m} \\left(y^{(i)}\\log(a^{[L] (i)}) + (1-y^{(i)})\\log(1- a^{[L](i)})\\right)$$\n"
   ]
  },
  {
   "cell_type": "code",
   "execution_count": 11,
   "id": "993612d1-eda5-4d4f-9aee-2bae955b7932",
   "metadata": {},
   "outputs": [],
   "source": [
    "def compute_cost(AL, Y):\n",
    "    \"\"\"\n",
    "    Arguments:\n",
    "    AL: probability vector corresponding to your label predictions, shape (1, number of examples)\n",
    "    Y: true \"label\" vector (for example: containing 0 if non-cat, 1 if cat), shape (1, number of examples)\n",
    "\n",
    "    Returns:\n",
    "    cost: cross-entropy cost\n",
    "    \"\"\"\n",
    "    \n",
    "    m = Y.shape[1]\n",
    "\n",
    "    # Compute loss from aL and y.\n",
    "    logprobs = np.multiply(Y, np.log(AL)) + np.multiply((1-Y), np.log(1-AL))\n",
    "    cost = -(1/m)*np.sum(logprobs)\n",
    "    \n",
    "    cost = np.squeeze(cost) # e.g. turns [[17]] into 17\n",
    "\n",
    "    \n",
    "    return cost"
   ]
  },
  {
   "cell_type": "markdown",
   "id": "cdfd27a9-e0c5-4ecf-9974-23ffbc9b2893",
   "metadata": {},
   "source": [
    "## 04 Backward propagation"
   ]
  },
  {
   "cell_type": "markdown",
   "id": "30b1ca84-ded8-4dd2-88ff-c90f89d44fb8",
   "metadata": {},
   "source": [
    "Build the backward propagation in three steps:\n",
    "1. LINEAR backward\n",
    "2. LINEAR -> ACTIVATION backward where ACTIVATION computes the derivative of either the ReLU or sigmoid activation\n",
    "3. [LINEAR -> RELU] $\\times$ (L-1) -> LINEAR -> SIGMOID backward (whole model)"
   ]
  },
  {
   "cell_type": "markdown",
   "id": "62f82c8a-6a08-4f89-a08f-29449ab2f7be",
   "metadata": {},
   "source": [
    "### 04.01 Linear backward\n",
    "Implementation of the linear portion of backward propagation for a single layer $l$.\n",
    "\n",
    "$$ dW^{[l]} = \\frac{\\partial \\mathcal{J} }{\\partial W^{[l]}} = \\frac{1}{m} dZ^{[l]} A^{[l-1] T}$$\n",
    "$$ db^{[l]} = \\frac{\\partial \\mathcal{J} }{\\partial b^{[l]}} = \\frac{1}{m} \\sum_{i = 1}^{m} dZ^{[l](i)}$$\n",
    "$$ dA^{[l-1]} = \\frac{\\partial \\mathcal{L} }{\\partial A^{[l-1]}} = W^{[l] T} dZ^{[l]}$$"
   ]
  },
  {
   "cell_type": "code",
   "execution_count": 13,
   "id": "6d56567c-0ce2-4648-957b-cc2f0360da21",
   "metadata": {},
   "outputs": [],
   "source": [
    "def linear_backward(dZ, cache):\n",
    "    \"\"\"\n",
    "    Arguments:\n",
    "    dZ: grad of the cost with respect to the linear output (of current layer l)\n",
    "    cache: tuple of values (A_prev, W, b) coming from the forward prop in the current layer\n",
    "\n",
    "    Returns:\n",
    "    dA_prev: grad of the cost with respect to the activation (of the previous layer l-1), same shape as A_prev\n",
    "    dW: grad of the cost with respect to W (current layer l), same shape as W\n",
    "    db: grad of the cost with respect to b (current layer l), same shape as b\n",
    "    \"\"\"\n",
    "    A_prev, W, b = cache\n",
    "    m = A_prev.shape[1]\n",
    "\n",
    "    dW = (1/m)*np.dot(dZ, A_prev.T)\n",
    "    db = (1/m)*np.sum(dZ, axis=1, keepdims=True)\n",
    "    dA_prev = np.dot(W.T, dZ)\n",
    "    \n",
    "    return dA_prev, dW, db"
   ]
  },
  {
   "cell_type": "markdown",
   "id": "76ae3f86-477a-4d47-8daf-e32d7a55356b",
   "metadata": {},
   "source": [
    "### 04.02 Linear-activation backward\n",
    "Implementation of the backward propagation for the LINEAR->ACTIVATION layer."
   ]
  },
  {
   "cell_type": "code",
   "execution_count": 15,
   "id": "dcfaa810-6bf9-486f-8ae4-03d54ab719d8",
   "metadata": {},
   "outputs": [],
   "source": [
    "def linear_activation_backward(dA, cache, activation):\n",
    "    \"\"\"    \n",
    "    Arguments:\n",
    "    dA: post-activation grad for current layer l \n",
    "    cache: tuple of values (linear_cache, activation_cache) we store for computing backward propagation efficiently\n",
    "    activation: the activation to be used in this layer, stored as a text string: \"sigmoid\" or \"relu\"\n",
    "    \n",
    "    Returns:\n",
    "    dA_prev: grad of the cost with respect to the activation (of the previous layer l-1), same shape as A_prev\n",
    "    dW: grad of the cost with respect to W (current layer l), same shape as W\n",
    "    db: grad of the cost with respect to b (current layer l), same shape as b\n",
    "    \"\"\"\n",
    "    linear_cache, activation_cache = cache\n",
    "    \n",
    "    if activation == \"relu\":\n",
    "        dZ = relu_backward(dA, activation_cache)\n",
    "        dA_prev, dW, db = linear_backward(dZ, linear_cache)\n",
    "    elif activation == \"sigmoid\":\n",
    "        dZ = sigmoid_backward(dA, activation_cache)\n",
    "        dA_prev, dW, db = linear_backward(dZ, linear_cache)\n",
    "    \n",
    "    return dA_prev, dW, db"
   ]
  },
  {
   "cell_type": "markdown",
   "id": "3cd5fd04-7cc7-4c36-891a-332758bfc4f2",
   "metadata": {},
   "source": [
    "### 04.03 L-layer model backward\n",
    "To backprop through this network, know that the output is:  $A^{[L]} = \\sigma(Z^{[L]})$. \n",
    "\n",
    "Therefore, we need to compute `dAL` $= \\frac{\\partial \\mathcal{L}}{\\partial A^{[L]}}$:\n",
    "```python\n",
    "dAL = - (np.divide(Y, AL) - np.divide(1 - Y, 1 - AL)) # derivative of cost with respect to AL\n",
    "```\n",
    "\n",
    "Then, use this post-activation gradient `dAL` to keep propagating backward. Feed in `dAL` into the LINEAR->SIGMOID backward function.\n",
    "\n",
    "After, use a `for` loop to iterate through all the other layers with the LINEAR->RELU backward function. \n",
    "\n",
    "Store each dA, dW, and db in the grads dictionary using the ff. formula: \n",
    "$$\\text{grads}[\\text{\"}dW\\text{\"} + \\text{str}(l)] = dW^{[l]}$$\n",
    "\n",
    "Implementation of the backward propagation for the [LINEAR->RELU] * (L-1) -> LINEAR -> SIGMOID group:"
   ]
  },
  {
   "cell_type": "code",
   "execution_count": 16,
   "id": "81a67cca-8a0b-436e-be9d-145d7c3a37a5",
   "metadata": {},
   "outputs": [],
   "source": [
    "def L_model_backward(AL, Y, caches):\n",
    "    \"\"\"\n",
    "    Arguments:\n",
    "    AL: probability vector, output of the forward propagation (L_model_forward())\n",
    "    Y: true \"label\" vector (containing 0 if non-cat, 1 if cat)\n",
    "    caches: list of caches containing:\n",
    "                - every cache of linear_activation_forward() with \"relu\" (it's caches[l], for l in range(L-1) i.e l = 0...L-2)\n",
    "                - the cache of linear_activation_forward() with \"sigmoid\" (it's caches[L-1])\n",
    "    \n",
    "    Returns:\n",
    "    grads: A dictionary with the gradients\n",
    "             grads[\"dA\" + str(l)] = ... \n",
    "             grads[\"dW\" + str(l)] = ...\n",
    "             grads[\"db\" + str(l)] = ... \n",
    "    \"\"\"\n",
    "    grads = {}\n",
    "    L = len(caches) # the number of layers\n",
    "    m = AL.shape[1]\n",
    "    Y = Y.reshape(AL.shape) # make Y take the same shape as AL\n",
    "    \n",
    "    # init backprop\n",
    "    dAL = -(np.divide(Y, AL) - np.divide(1-Y, 1-AL))\n",
    "    \n",
    "    # Lth layer (SIGMOID -> LINEAR) grad\n",
    "    dA_prev_temp, dW_temp, db_temp = linear_activation_backward(dAL,\n",
    "                                                                current_cache, \n",
    "                                                                'sigmoid')\n",
    "    grads[\"dA\" + str(L-1)] = dA_prev_temp\n",
    "    grads[\"dW\" + str(L)] = dW_temp\n",
    "    grads[\"db\" + str(L)] = db_temp\n",
    "    \n",
    "    # Loop from l=(L-2) to l=0\n",
    "    for l in reversed(range(L-1)):\n",
    "        # lth layer: (RELU -> LINEAR) grad\n",
    "        current_cache = caches[l]\n",
    "        dA_prev_temp, dW_temp, db_temp = linear_activation_backward(dA_prev_temp,\n",
    "                                                                current_cache, \n",
    "                                                                'relu')\n",
    "        grads[\"dA\" + str(l)] = dA_prev_temp\n",
    "        grads[\"dW\" + str(l + 1)] = dW_temp\n",
    "        grads[\"db\" + str(l + 1)] = db_temp\n",
    "    \n",
    "    return grads"
   ]
  },
  {
   "cell_type": "markdown",
   "id": "49c223ec-920c-4bc9-b9bf-c2e75b4bbb68",
   "metadata": {},
   "source": [
    "### 04.04 Update parameters\n",
    "Update the parameters of the model, using gradient descent: \n",
    "$$ W^{[l]} = W^{[l]} - \\alpha \\text{ } dW^{[l]} $$\n",
    "$$ b^{[l]} = b^{[l]} - \\alpha \\text{ } db^{[l]} $$\n",
    "\n",
    "where $\\alpha$ is the learning rate. \n",
    "\n",
    "After computing the updated parameters, store them in the parameters dictionary."
   ]
  },
  {
   "cell_type": "code",
   "execution_count": 17,
   "id": "9cb5852a-fea7-4e0e-baab-568e5ed3233c",
   "metadata": {},
   "outputs": [],
   "source": [
    "def update_parameters(params, grads, learning_rate):\n",
    "    \"\"\"\n",
    "    Arguments:\n",
    "    params: dict containing your parameters \n",
    "    grads: dict containing your gradients, output of L_model_backward\n",
    "    \n",
    "    Returns:\n",
    "    parameters: dict containing your updated parameters \n",
    "                  parameters[\"W\" + str(l)] = ... \n",
    "                  parameters[\"b\" + str(l)] = ...\n",
    "    \"\"\"\n",
    "    parameters = copy.deepcopy(params)\n",
    "    L = len(parameters) // 2 # number of layers in the neural network\n",
    "\n",
    "    # Update rule for each parameter\n",
    "    for l in range(L):\n",
    "        parameters[\"W\" + str(l+1)] = parameters[\"W\" + str(l+1)] - learning_rate*grads[\"dW\" + str(l + 1)]\n",
    "        parameters[\"b\" + str(l+1)] = parameters[\"b\" + str(l+1)] - learning_rate*grads[\"db\" + str(l + 1)]\n",
    "    \n",
    "    return parameters"
   ]
  },
  {
   "cell_type": "code",
   "execution_count": null,
   "id": "7cf8fcab-16eb-4a58-83a6-5cb1471955ab",
   "metadata": {},
   "outputs": [],
   "source": []
  }
 ],
 "metadata": {
  "kernelspec": {
   "display_name": "DLS",
   "language": "python",
   "name": "dls"
  },
  "language_info": {
   "codemirror_mode": {
    "name": "ipython",
    "version": 3
   },
   "file_extension": ".py",
   "mimetype": "text/x-python",
   "name": "python",
   "nbconvert_exporter": "python",
   "pygments_lexer": "ipython3",
   "version": "3.11.2"
  }
 },
 "nbformat": 4,
 "nbformat_minor": 5
}
